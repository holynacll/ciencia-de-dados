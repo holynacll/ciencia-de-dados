{
 "cells": [
  {
   "cell_type": "markdown",
   "metadata": {
    "id": "H4R_lHXNWHz-"
   },
   "source": [
    "\n",
    "# Exercício - Compras de Ecommerce  \n",
    "\n",
    "Neste exercício, você receberá alguns dados falsos sobre algumas compras feitas pela Amazon! Basta seguir as instruções e tente dar melhor para responder as perguntas e completar as tarefas. Sinta-se a vontade para dar uma olhada nas soluções. A maioria das tarefas pode ser resolvida de diferentes maneiras. Para a maior parte, as perguntas ficam cada vez mais difíceis.\n",
    "\n",
    "Peço desculpas desde já por todos dados que não parecerem muito reais. São todos falsos.\n",
    "\n",
    "Observe também que todas essas questões podem ser respondidas com uma linha de código.\n",
    "____\n",
    "** Importe pandas e leia o arquivo csv \"Ecommerce Purchases\" e configure-o para um DataFrame chamado ecom. **"
   ]
  },
  {
   "cell_type": "code",
   "execution_count": null,
   "metadata": {
    "id": "2Xpd_GgwWH0C",
    "tags": []
   },
   "outputs": [],
   "source": [
    "import pandas as pd"
   ]
  },
  {
   "cell_type": "code",
   "execution_count": null,
   "metadata": {
    "id": "AMMqyNnGWH0D",
    "tags": []
   },
   "outputs": [],
   "source": [
    "ecom = pd.read_csv('Ecommerce Purchases')"
   ]
  },
  {
   "cell_type": "markdown",
   "metadata": {
    "id": "7tnr5dEBWH0E"
   },
   "source": [
    "**Verifique o \"head\" do DataFrame.**"
   ]
  },
  {
   "cell_type": "code",
   "execution_count": null,
   "metadata": {
    "colab": {
     "base_uri": "https://localhost:8080/",
     "height": 150
    },
    "id": "jiwpDAPpWH0E",
    "outputId": "47b83890-5a89-4ded-ebcf-19395e08a773"
   },
   "outputs": [
    {
     "data": {
      "text/html": [
       "<div>\n",
       "<style scoped>\n",
       "    .dataframe tbody tr th:only-of-type {\n",
       "        vertical-align: middle;\n",
       "    }\n",
       "\n",
       "    .dataframe tbody tr th {\n",
       "        vertical-align: top;\n",
       "    }\n",
       "\n",
       "    .dataframe thead th {\n",
       "        text-align: right;\n",
       "    }\n",
       "</style>\n",
       "<table border=\"1\" class=\"dataframe\">\n",
       "  <thead>\n",
       "    <tr style=\"text-align: right;\">\n",
       "      <th></th>\n",
       "      <th>Address</th>\n",
       "      <th>Lot</th>\n",
       "      <th>AM or PM</th>\n",
       "      <th>Browser Info</th>\n",
       "      <th>Company</th>\n",
       "      <th>Credit Card</th>\n",
       "      <th>CC Exp Date</th>\n",
       "      <th>CC Security Code</th>\n",
       "      <th>CC Provider</th>\n",
       "      <th>Email</th>\n",
       "      <th>Job</th>\n",
       "      <th>IP Address</th>\n",
       "      <th>Language</th>\n",
       "      <th>Purchase Price</th>\n",
       "    </tr>\n",
       "  </thead>\n",
       "  <tbody>\n",
       "    <tr>\n",
       "      <th>0</th>\n",
       "      <td>16629 Pace Camp Apt. 448\\nAlexisborough, NE 77...</td>\n",
       "      <td>46 in</td>\n",
       "      <td>PM</td>\n",
       "      <td>Opera/9.56.(X11; Linux x86_64; sl-SI) Presto/2...</td>\n",
       "      <td>Martinez-Herman</td>\n",
       "      <td>6011929061123406</td>\n",
       "      <td>02/20</td>\n",
       "      <td>900</td>\n",
       "      <td>JCB 16 digit</td>\n",
       "      <td>pdunlap@yahoo.com</td>\n",
       "      <td>Scientist, product/process development</td>\n",
       "      <td>149.146.147.205</td>\n",
       "      <td>el</td>\n",
       "      <td>98.14</td>\n",
       "    </tr>\n",
       "  </tbody>\n",
       "</table>\n",
       "</div>"
      ],
      "text/plain": [
       "                                             Address  ... Purchase Price\n",
       "0  16629 Pace Camp Apt. 448\\nAlexisborough, NE 77...  ...          98.14\n",
       "\n",
       "[1 rows x 14 columns]"
      ]
     },
     "execution_count": 3,
     "metadata": {},
     "output_type": "execute_result"
    }
   ],
   "source": [
    "ecom.head(1)"
   ]
  },
  {
   "cell_type": "markdown",
   "metadata": {
    "id": "wgaOl_PPWH0F"
   },
   "source": [
    "** Quantas linhas e colunas existem? **"
   ]
  },
  {
   "cell_type": "code",
   "execution_count": null,
   "metadata": {
    "colab": {
     "base_uri": "https://localhost:8080/"
    },
    "id": "TJE7BVQcWH0G",
    "outputId": "b9991b9c-72d4-4424-9b72-8feb2e47f261"
   },
   "outputs": [
    {
     "name": "stdout",
     "output_type": "stream",
     "text": [
      "<class 'pandas.core.frame.DataFrame'>\n",
      "RangeIndex: 10000 entries, 0 to 9999\n",
      "Data columns (total 14 columns):\n",
      " #   Column            Non-Null Count  Dtype  \n",
      "---  ------            --------------  -----  \n",
      " 0   Address           10000 non-null  object \n",
      " 1   Lot               10000 non-null  object \n",
      " 2   AM or PM          10000 non-null  object \n",
      " 3   Browser Info      10000 non-null  object \n",
      " 4   Company           10000 non-null  object \n",
      " 5   Credit Card       10000 non-null  int64  \n",
      " 6   CC Exp Date       10000 non-null  object \n",
      " 7   CC Security Code  10000 non-null  int64  \n",
      " 8   CC Provider       10000 non-null  object \n",
      " 9   Email             10000 non-null  object \n",
      " 10  Job               10000 non-null  object \n",
      " 11  IP Address        10000 non-null  object \n",
      " 12  Language          10000 non-null  object \n",
      " 13  Purchase Price    10000 non-null  float64\n",
      "dtypes: float64(1), int64(2), object(11)\n",
      "memory usage: 1.1+ MB\n"
     ]
    }
   ],
   "source": [
    "ecom.info()\n",
    "# 10000 linhas e 14 colunas"
   ]
  },
  {
   "cell_type": "markdown",
   "metadata": {
    "id": "sK7_MogNWH0G"
   },
   "source": [
    "** Qual é o preço de compra médio? **"
   ]
  },
  {
   "cell_type": "code",
   "execution_count": null,
   "metadata": {
    "colab": {
     "base_uri": "https://localhost:8080/"
    },
    "id": "vDnu0joPWH0H",
    "outputId": "a237836f-3472-440d-f1b0-e7d5fdb412e8"
   },
   "outputs": [
    {
     "data": {
      "text/plain": [
       "50.34730200000025"
      ]
     },
     "execution_count": 5,
     "metadata": {},
     "output_type": "execute_result"
    }
   ],
   "source": [
    "ecom.columns = [c.replace(' ', '_') for c in ecom.columns]\n",
    "ecom.Purchase_Price.mean()"
   ]
  },
  {
   "cell_type": "markdown",
   "metadata": {
    "id": "ALuFBo19WH0H"
   },
   "source": [
    "** Quais foram os preços de compra mais altos e mais baixos? **"
   ]
  },
  {
   "cell_type": "code",
   "execution_count": null,
   "metadata": {
    "colab": {
     "base_uri": "https://localhost:8080/"
    },
    "id": "1nDsiwzaWH0I",
    "outputId": "dc64d952-14c8-49dd-a0f5-27136eaba1d8"
   },
   "outputs": [
    {
     "data": {
      "text/plain": [
       "5487     0.00\n",
       "2876     0.00\n",
       "6863     0.01\n",
       "8656     0.02\n",
       "2783     0.02\n",
       "        ...  \n",
       "3844    99.93\n",
       "7604    99.95\n",
       "9856    99.97\n",
       "7807    99.99\n",
       "2092    99.99\n",
       "Name: Purchase_Price, Length: 10000, dtype: float64"
      ]
     },
     "execution_count": 6,
     "metadata": {},
     "output_type": "execute_result"
    }
   ],
   "source": [
    "ecom.sort_values(by=['Purchase_Price']).Purchase_Price\n",
    "# 0.00 e 99.99"
   ]
  },
  {
   "cell_type": "code",
   "execution_count": null,
   "metadata": {
    "id": "aafv3nyLWH0I"
   },
   "outputs": [],
   "source": []
  },
  {
   "cell_type": "markdown",
   "metadata": {
    "id": "yn9v7lvUWH0I"
   },
   "source": [
    "** Quantas pessoas têm Inglês 'en' como sua língua de escolha no site? **"
   ]
  },
  {
   "cell_type": "code",
   "execution_count": null,
   "metadata": {
    "colab": {
     "base_uri": "https://localhost:8080/"
    },
    "id": "Iok0CCbTWH0K",
    "outputId": "b8945f63-d045-4622-c864-e025a2d80b00"
   },
   "outputs": [
    {
     "data": {
      "text/plain": [
       "1098"
      ]
     },
     "execution_count": 7,
     "metadata": {},
     "output_type": "execute_result"
    }
   ],
   "source": [
    "ecom.groupby(['Language']).get_group(\"en\").Language.count()"
   ]
  },
  {
   "cell_type": "markdown",
   "metadata": {
    "id": "ljf7fVlCWH0K"
   },
   "source": [
    "** Quantas pessoas têm o cargo de \"Advogado\"? **"
   ]
  },
  {
   "cell_type": "code",
   "execution_count": null,
   "metadata": {
    "colab": {
     "base_uri": "https://localhost:8080/"
    },
    "id": "wKZriyoVWH0K",
    "outputId": "b2d3a4a8-2fe1-410e-a317-27a75e2f7f5a"
   },
   "outputs": [
    {
     "data": {
      "text/plain": [
       "30"
      ]
     },
     "execution_count": 8,
     "metadata": {},
     "output_type": "execute_result"
    }
   ],
   "source": [
    "ecom.groupby(['Job']).get_group(\"Lawyer\").Job.count()"
   ]
  },
  {
   "cell_type": "markdown",
   "metadata": {
    "id": "Ip-l7FqTWH0K"
   },
   "source": [
    "** Quantas pessoas fizeram a compra durante a AM e quantas pessoas fizeram a compra durante o PM? **\n",
    "\n",
    "** (Sugestão: Confira [value_counts ()](http://pandas.pydata.org/pandas-docs/stable/generated/pandas.Series.value_counts.html)) **"
   ]
  },
  {
   "cell_type": "code",
   "execution_count": null,
   "metadata": {
    "colab": {
     "base_uri": "https://localhost:8080/"
    },
    "id": "2AHdbT83WH0L",
    "outputId": "877fb8d4-7067-4c88-8aa6-af60762aba80"
   },
   "outputs": [
    {
     "name": "stdout",
     "output_type": "stream",
     "text": [
      "4932 5068\n"
     ]
    }
   ],
   "source": [
    "am_count = ecom.groupby(['AM_or_PM']).get_group(\"AM\").AM_or_PM.count()\n",
    "pm_count = ecom.groupby(['AM_or_PM']).get_group(\"PM\").AM_or_PM.count()\n",
    "\n",
    "print(am_count, pm_count)"
   ]
  },
  {
   "cell_type": "markdown",
   "metadata": {
    "id": "AKXxF4NPWH0L"
   },
   "source": [
    "** Quais são os 5 títulos de trabalho mais comuns? **"
   ]
  },
  {
   "cell_type": "code",
   "execution_count": null,
   "metadata": {
    "id": "uWI-HyNzWH0L"
   },
   "outputs": [],
   "source": [
    "# entendi nao"
   ]
  },
  {
   "cell_type": "markdown",
   "metadata": {
    "id": "_XVHmi7QWH0L"
   },
   "source": [
    "** Alguém fez uma compra que veio do Lot: \"90 WT\", qual foi o preço de compra para esta transação? **"
   ]
  },
  {
   "cell_type": "code",
   "execution_count": null,
   "metadata": {
    "colab": {
     "base_uri": "https://localhost:8080/"
    },
    "id": "rUgQR2_eWH0M",
    "outputId": "5ca2ee6f-40a3-4d40-ccb1-93ff3934e437"
   },
   "outputs": [
    {
     "data": {
      "text/plain": [
       "513    75.1\n",
       "Name: Purchase_Price, dtype: float64"
      ]
     },
     "execution_count": 10,
     "metadata": {},
     "output_type": "execute_result"
    }
   ],
   "source": [
    "filter = ecom['Lot']==\"90 WT\"\n",
    "ecom.where(filter).dropna().Purchase_Price"
   ]
  },
  {
   "cell_type": "markdown",
   "metadata": {
    "id": "fjjcqUAnWH0M"
   },
   "source": [
    "** Qual é o email da pessoa com o seguinte número do cartão de crédito: 4926535242672853 **"
   ]
  },
  {
   "cell_type": "code",
   "execution_count": null,
   "metadata": {
    "colab": {
     "base_uri": "https://localhost:8080/"
    },
    "id": "bw5d2rvjWH0M",
    "outputId": "826ccdb6-5ffe-4003-d6b6-8ad0950f00d7"
   },
   "outputs": [
    {
     "data": {
      "text/plain": [
       "Series([], Name: Credit_Card, dtype: float64)"
      ]
     },
     "execution_count": 11,
     "metadata": {},
     "output_type": "execute_result"
    }
   ],
   "source": [
    "filter = ecom.Credit_Card==\"4926535242672853\"\n",
    "ecom.Credit_Card.where(filter).dropna()\n",
    "# nao tem"
   ]
  },
  {
   "cell_type": "markdown",
   "metadata": {
    "id": "RtJH1KKVWH0M"
   },
   "source": [
    "** Quantas pessoas têm o American Express como seu fornecedor de cartão de crédito * e * fizeram uma compra acima de US $ 95? **"
   ]
  },
  {
   "cell_type": "code",
   "execution_count": null,
   "metadata": {
    "colab": {
     "base_uri": "https://localhost:8080/"
    },
    "id": "5MpdOBUkWH0M",
    "outputId": "a227f2be-91af-414b-f186-981b04740041"
   },
   "outputs": [
    {
     "data": {
      "text/plain": [
       "39"
      ]
     },
     "execution_count": 13,
     "metadata": {},
     "output_type": "execute_result"
    }
   ],
   "source": [
    "filter = ecom['Purchase_Price']>95\n",
    "ecom.groupby(['CC_Provider']).get_group(\"American Express\").where(filter).dropna().Purchase_Price.count()"
   ]
  },
  {
   "cell_type": "markdown",
   "metadata": {
    "id": "IHvxSnxrWH0N"
   },
   "source": [
    "** Difícil: quantas pessoas tem um cartão de crédito que expira em 2025? **"
   ]
  },
  {
   "cell_type": "code",
   "execution_count": null,
   "metadata": {
    "id": "as4UhcilWH0N"
   },
   "outputs": [],
   "source": []
  },
  {
   "cell_type": "markdown",
   "metadata": {
    "id": "IrwqTfO0WH0N"
   },
   "source": [
    "** Difícil: quais são os 5 principais provedores de e-mail / hosts mais populares (por exemplo, gmail.com, yahoo.com, etc ...) **"
   ]
  },
  {
   "cell_type": "code",
   "execution_count": null,
   "metadata": {
    "id": "hJTQeqmcWH0N"
   },
   "outputs": [],
   "source": []
  }
 ],
 "metadata": {
  "colab": {
   "provenance": []
  },
  "kernelspec": {
   "display_name": "Python 3 (ipykernel)",
   "language": "python",
   "name": "python3"
  },
  "language_info": {
   "codemirror_mode": {
    "name": "ipython",
    "version": 3
   },
   "file_extension": ".py",
   "mimetype": "text/x-python",
   "name": "python",
   "nbconvert_exporter": "python",
   "pygments_lexer": "ipython3",
   "version": "3.9.5"
  }
 },
 "nbformat": 4,
 "nbformat_minor": 4
}
